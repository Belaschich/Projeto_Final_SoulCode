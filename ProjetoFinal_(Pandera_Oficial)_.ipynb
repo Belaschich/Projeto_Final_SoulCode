{
  "nbformat": 4,
  "nbformat_minor": 0,
  "metadata": {
    "colab": {
      "name": "ProjetoFinal (Pandera Oficial) .ipynb",
      "provenance": [],
      "collapsed_sections": [],
      "include_colab_link": true
    },
    "kernelspec": {
      "display_name": "Python 3",
      "name": "python3"
    },
    "language_info": {
      "name": "python"
    }
  },
  "cells": [
    {
      "cell_type": "markdown",
      "metadata": {
        "id": "view-in-github",
        "colab_type": "text"
      },
      "source": [
        "<a href=\"https://colab.research.google.com/github/Belaschich/Projeto_Final_SoulCode/blob/main/ProjetoFinal_(Pandera_Oficial)_.ipynb\" target=\"_parent\"><img src=\"https://colab.research.google.com/assets/colab-badge.svg\" alt=\"Open In Colab\"/></a>"
      ]
    },
    {
      "cell_type": "markdown",
      "metadata": {
        "id": "SSkAJhCPmuiL"
      },
      "source": [
        "# IMPORT BIBLIOTECAS E ACESSO GCP"
      ]
    },
    {
      "cell_type": "code",
      "metadata": {
        "id": "6LwlkjPVJ1mT",
        "colab": {
          "base_uri": "https://localhost:8080/"
        },
        "outputId": "37fdb3a0-b8ed-40d8-932e-f3255d0705ce"
      },
      "source": [
        "pip install gcsfs"
      ],
      "execution_count": null,
      "outputs": [
        {
          "output_type": "stream",
          "name": "stdout",
          "text": [
            "Collecting gcsfs\n",
            "  Downloading gcsfs-2021.11.1-py2.py3-none-any.whl (24 kB)\n",
            "Requirement already satisfied: google-auth-oauthlib in /usr/local/lib/python3.7/dist-packages (from gcsfs) (0.4.6)\n",
            "Requirement already satisfied: decorator>4.1.2 in /usr/local/lib/python3.7/dist-packages (from gcsfs) (4.4.2)\n",
            "Collecting fsspec==2021.11.1\n",
            "  Downloading fsspec-2021.11.1-py3-none-any.whl (132 kB)\n",
            "\u001b[K     |████████████████████████████████| 132 kB 7.6 MB/s \n",
            "\u001b[?25hCollecting aiohttp<4\n",
            "  Downloading aiohttp-3.8.1-cp37-cp37m-manylinux_2_5_x86_64.manylinux1_x86_64.manylinux_2_12_x86_64.manylinux2010_x86_64.whl (1.1 MB)\n",
            "\u001b[K     |████████████████████████████████| 1.1 MB 47.8 MB/s \n",
            "\u001b[?25hRequirement already satisfied: requests in /usr/local/lib/python3.7/dist-packages (from gcsfs) (2.23.0)\n",
            "Requirement already satisfied: google-cloud-storage in /usr/local/lib/python3.7/dist-packages (from gcsfs) (1.18.1)\n",
            "Requirement already satisfied: google-auth>=1.2 in /usr/local/lib/python3.7/dist-packages (from gcsfs) (1.35.0)\n",
            "Collecting asynctest==0.13.0\n",
            "  Downloading asynctest-0.13.0-py3-none-any.whl (26 kB)\n",
            "Collecting yarl<2.0,>=1.0\n",
            "  Downloading yarl-1.7.2-cp37-cp37m-manylinux_2_5_x86_64.manylinux1_x86_64.manylinux_2_12_x86_64.manylinux2010_x86_64.whl (271 kB)\n",
            "\u001b[K     |████████████████████████████████| 271 kB 56.4 MB/s \n",
            "\u001b[?25hCollecting aiosignal>=1.1.2\n",
            "  Downloading aiosignal-1.2.0-py3-none-any.whl (8.2 kB)\n",
            "Collecting frozenlist>=1.1.1\n",
            "  Downloading frozenlist-1.2.0-cp37-cp37m-manylinux_2_5_x86_64.manylinux1_x86_64.manylinux_2_12_x86_64.manylinux2010_x86_64.whl (192 kB)\n",
            "\u001b[K     |████████████████████████████████| 192 kB 63.6 MB/s \n",
            "\u001b[?25hRequirement already satisfied: charset-normalizer<3.0,>=2.0 in /usr/local/lib/python3.7/dist-packages (from aiohttp<4->gcsfs) (2.0.8)\n",
            "Collecting multidict<7.0,>=4.5\n",
            "  Downloading multidict-5.2.0-cp37-cp37m-manylinux_2_5_x86_64.manylinux1_x86_64.manylinux_2_12_x86_64.manylinux2010_x86_64.whl (160 kB)\n",
            "\u001b[K     |████████████████████████████████| 160 kB 66.1 MB/s \n",
            "\u001b[?25hCollecting async-timeout<5.0,>=4.0.0a3\n",
            "  Downloading async_timeout-4.0.1-py3-none-any.whl (5.7 kB)\n",
            "Requirement already satisfied: attrs>=17.3.0 in /usr/local/lib/python3.7/dist-packages (from aiohttp<4->gcsfs) (21.2.0)\n",
            "Requirement already satisfied: typing-extensions>=3.7.4 in /usr/local/lib/python3.7/dist-packages (from aiohttp<4->gcsfs) (3.10.0.2)\n",
            "Requirement already satisfied: pyasn1-modules>=0.2.1 in /usr/local/lib/python3.7/dist-packages (from google-auth>=1.2->gcsfs) (0.2.8)\n",
            "Requirement already satisfied: cachetools<5.0,>=2.0.0 in /usr/local/lib/python3.7/dist-packages (from google-auth>=1.2->gcsfs) (4.2.4)\n",
            "Requirement already satisfied: setuptools>=40.3.0 in /usr/local/lib/python3.7/dist-packages (from google-auth>=1.2->gcsfs) (57.4.0)\n",
            "Requirement already satisfied: rsa<5,>=3.1.4 in /usr/local/lib/python3.7/dist-packages (from google-auth>=1.2->gcsfs) (4.8)\n",
            "Requirement already satisfied: six>=1.9.0 in /usr/local/lib/python3.7/dist-packages (from google-auth>=1.2->gcsfs) (1.15.0)\n",
            "Requirement already satisfied: pyasn1<0.5.0,>=0.4.6 in /usr/local/lib/python3.7/dist-packages (from pyasn1-modules>=0.2.1->google-auth>=1.2->gcsfs) (0.4.8)\n",
            "Requirement already satisfied: idna>=2.0 in /usr/local/lib/python3.7/dist-packages (from yarl<2.0,>=1.0->aiohttp<4->gcsfs) (2.10)\n",
            "Requirement already satisfied: requests-oauthlib>=0.7.0 in /usr/local/lib/python3.7/dist-packages (from google-auth-oauthlib->gcsfs) (1.3.0)\n",
            "Requirement already satisfied: oauthlib>=3.0.0 in /usr/local/lib/python3.7/dist-packages (from requests-oauthlib>=0.7.0->google-auth-oauthlib->gcsfs) (3.1.1)\n",
            "Requirement already satisfied: chardet<4,>=3.0.2 in /usr/local/lib/python3.7/dist-packages (from requests->gcsfs) (3.0.4)\n",
            "Requirement already satisfied: certifi>=2017.4.17 in /usr/local/lib/python3.7/dist-packages (from requests->gcsfs) (2021.10.8)\n",
            "Requirement already satisfied: urllib3!=1.25.0,!=1.25.1,<1.26,>=1.21.1 in /usr/local/lib/python3.7/dist-packages (from requests->gcsfs) (1.24.3)\n",
            "Requirement already satisfied: google-cloud-core<2.0dev,>=1.0.0 in /usr/local/lib/python3.7/dist-packages (from google-cloud-storage->gcsfs) (1.0.3)\n",
            "Requirement already satisfied: google-resumable-media<0.5.0dev,>=0.3.1 in /usr/local/lib/python3.7/dist-packages (from google-cloud-storage->gcsfs) (0.4.1)\n",
            "Requirement already satisfied: google-api-core<2.0.0dev,>=1.14.0 in /usr/local/lib/python3.7/dist-packages (from google-cloud-core<2.0dev,>=1.0.0->google-cloud-storage->gcsfs) (1.26.3)\n",
            "Requirement already satisfied: googleapis-common-protos<2.0dev,>=1.6.0 in /usr/local/lib/python3.7/dist-packages (from google-api-core<2.0.0dev,>=1.14.0->google-cloud-core<2.0dev,>=1.0.0->google-cloud-storage->gcsfs) (1.53.0)\n",
            "Requirement already satisfied: packaging>=14.3 in /usr/local/lib/python3.7/dist-packages (from google-api-core<2.0.0dev,>=1.14.0->google-cloud-core<2.0dev,>=1.0.0->google-cloud-storage->gcsfs) (21.3)\n",
            "Requirement already satisfied: pytz in /usr/local/lib/python3.7/dist-packages (from google-api-core<2.0.0dev,>=1.14.0->google-cloud-core<2.0dev,>=1.0.0->google-cloud-storage->gcsfs) (2018.9)\n",
            "Requirement already satisfied: protobuf>=3.12.0 in /usr/local/lib/python3.7/dist-packages (from google-api-core<2.0.0dev,>=1.14.0->google-cloud-core<2.0dev,>=1.0.0->google-cloud-storage->gcsfs) (3.17.3)\n",
            "Requirement already satisfied: pyparsing!=3.0.5,>=2.0.2 in /usr/local/lib/python3.7/dist-packages (from packaging>=14.3->google-api-core<2.0.0dev,>=1.14.0->google-cloud-core<2.0dev,>=1.0.0->google-cloud-storage->gcsfs) (3.0.6)\n",
            "Installing collected packages: multidict, frozenlist, yarl, asynctest, async-timeout, aiosignal, fsspec, aiohttp, gcsfs\n",
            "Successfully installed aiohttp-3.8.1 aiosignal-1.2.0 async-timeout-4.0.1 asynctest-0.13.0 frozenlist-1.2.0 fsspec-2021.11.1 gcsfs-2021.11.1 multidict-5.2.0 yarl-1.7.2\n"
          ]
        }
      ]
    },
    {
      "cell_type": "code",
      "metadata": {
        "id": "9AxLP1MEN15R",
        "colab": {
          "base_uri": "https://localhost:8080/"
        },
        "outputId": "6bfa00ce-096a-4a9d-e524-894ef3d5d06f"
      },
      "source": [
        "!pip install pandera"
      ],
      "execution_count": null,
      "outputs": [
        {
          "output_type": "stream",
          "name": "stdout",
          "text": [
            "Collecting pandera\n",
            "  Downloading pandera-0.8.0-py3-none-any.whl (186 kB)\n",
            "\u001b[K     |████████████████████████████████| 186 kB 5.1 MB/s \n",
            "\u001b[?25hCollecting typing-inspect>=0.6.0\n",
            "  Downloading typing_inspect-0.7.1-py3-none-any.whl (8.4 kB)\n",
            "Requirement already satisfied: numpy>=1.9.0 in /usr/local/lib/python3.7/dist-packages (from pandera) (1.19.5)\n",
            "Requirement already satisfied: packaging>=20.0 in /usr/local/lib/python3.7/dist-packages (from pandera) (21.3)\n",
            "Requirement already satisfied: typing-extensions>=3.7.4.3 in /usr/local/lib/python3.7/dist-packages (from pandera) (3.10.0.2)\n",
            "Requirement already satisfied: wrapt in /usr/local/lib/python3.7/dist-packages (from pandera) (1.13.3)\n",
            "Requirement already satisfied: pandas>=1.0 in /usr/local/lib/python3.7/dist-packages (from pandera) (1.1.5)\n",
            "Collecting pandas-stubs\n",
            "  Downloading pandas_stubs-1.2.0.39-py3-none-any.whl (161 kB)\n",
            "\u001b[K     |████████████████████████████████| 161 kB 58.7 MB/s \n",
            "\u001b[?25hRequirement already satisfied: pyarrow in /usr/local/lib/python3.7/dist-packages (from pandera) (3.0.0)\n",
            "Requirement already satisfied: pyparsing!=3.0.5,>=2.0.2 in /usr/local/lib/python3.7/dist-packages (from packaging>=20.0->pandera) (3.0.6)\n",
            "Requirement already satisfied: python-dateutil>=2.7.3 in /usr/local/lib/python3.7/dist-packages (from pandas>=1.0->pandera) (2.8.2)\n",
            "Requirement already satisfied: pytz>=2017.2 in /usr/local/lib/python3.7/dist-packages (from pandas>=1.0->pandera) (2018.9)\n",
            "Requirement already satisfied: six>=1.5 in /usr/local/lib/python3.7/dist-packages (from python-dateutil>=2.7.3->pandas>=1.0->pandera) (1.15.0)\n",
            "Collecting mypy-extensions>=0.3.0\n",
            "  Downloading mypy_extensions-0.4.3-py2.py3-none-any.whl (4.5 kB)\n",
            "Installing collected packages: mypy-extensions, typing-inspect, pandas-stubs, pandera\n",
            "Successfully installed mypy-extensions-0.4.3 pandas-stubs-1.2.0.39 pandera-0.8.0 typing-inspect-0.7.1\n"
          ]
        },
        {
          "output_type": "display_data",
          "data": {
            "application/vnd.colab-display-data+json": {
              "pip_warning": {
                "packages": [
                  "pandas"
                ]
              }
            }
          },
          "metadata": {}
        }
      ]
    },
    {
      "cell_type": "code",
      "metadata": {
        "id": "43ufK9DYKPVx"
      },
      "source": [
        "#BIBLIOTECA PARA CHAVE DE ACESSO GCP\n",
        "\n",
        "import os"
      ],
      "execution_count": null,
      "outputs": []
    },
    {
      "cell_type": "code",
      "metadata": {
        "id": "kn-PFsrUK_Ha"
      },
      "source": [
        "#IMPORT PANDAS E STORAGE\n",
        "\n",
        "import pandas as pd\n",
        "from google.cloud import storage"
      ],
      "execution_count": null,
      "outputs": []
    },
    {
      "cell_type": "code",
      "metadata": {
        "id": "HPserydJSXJR"
      },
      "source": [
        "import pandera as pa"
      ],
      "execution_count": null,
      "outputs": []
    },
    {
      "cell_type": "code",
      "metadata": {
        "id": "2lr2x2GbKRTz"
      },
      "source": [
        "#IMPORTA BASE DE ACESSO GCP\n",
        "\n",
        "service_account_key = r\"/content/chaveprogrupo10-332518-4db3212adcd1.json\"\n",
        "\n",
        "os.environ[\"GOOGLE_APPLICATION_CREDENTIALS\"] = service_account_key"
      ],
      "execution_count": null,
      "outputs": []
    },
    {
      "cell_type": "markdown",
      "metadata": {
        "id": "pej0FLIDnC9f"
      },
      "source": [
        "# IMPORTAÇÃO BASES DE ENTRADA GCP"
      ]
    },
    {
      "cell_type": "code",
      "metadata": {
        "id": "srkbbUn6b_MP"
      },
      "source": [
        "#LEITURA DO CSV TRATADO NO PANDAS, SALVO NO GCP\n",
        "\n",
        "df1 = pd.read_csv('gs://bucket-projeto-g10/saida_tratado/nivel_pandas/Base_ConsumoNA (1.0).csv')"
      ],
      "execution_count": null,
      "outputs": []
    },
    {
      "cell_type": "code",
      "metadata": {
        "id": "bQQ9_ZNReYBG"
      },
      "source": [
        "\n",
        "df2 = pd.read_csv('gs://bucket-projeto-g10/saida_tratado/nivel_pandas/Base_ConsumoIowa (1.0).csv', sep=',')"
      ],
      "execution_count": null,
      "outputs": []
    },
    {
      "cell_type": "markdown",
      "metadata": {
        "id": "io35bw53dALl"
      },
      "source": [
        "# TRATATIVAS PRÉ VALIDAÇÃO"
      ]
    },
    {
      "cell_type": "code",
      "metadata": {
        "id": "yDAQMYUWHn3v"
      },
      "source": [
        "#MUDANÇA NO TIPO DO DADO DA COLUNA MESREF DE INTEIRO PARA STRING\n",
        "\n",
        "df1['MesRef'] = df1['MesRef'].astype(str)"
      ],
      "execution_count": null,
      "outputs": []
    },
    {
      "cell_type": "code",
      "metadata": {
        "id": "kefTV78QHzvz"
      },
      "source": [
        "#INCREMENTA O ZERO NA FRENTE DOS DADOS COM MES DE 1 A 9\n",
        "\n",
        "df1['MesRef'].replace( ['12017', '22017',\n",
        "       '32017','42017', '52017', '62017', \n",
        "       '72017','82017', '92017', '12018', \n",
        "       '22018','32018', '42018', '52018', \n",
        "       '62018', '72018', '82018', '92018',\n",
        "       '12019', '22019', '32019', '42019',\n",
        "       '52019', '62019', '72019', '82019', \n",
        "       '92019', '12020', '22020', '32020', \n",
        "       '42020', '52020', '62020','72020',\n",
        "       '82020', '92020', '12021', '22021'],\n",
        "\n",
        "                       ['012017', '022017',\n",
        "       '032017', '042017', '052017', '062017', \n",
        "       '072017', '082017', '092017', '012018', \n",
        "       '022018', '032018', '042018', '052018', \n",
        "       '062018', '072018', '082018', '092018',\n",
        "       '012019', '022019', '032019', '042019',\n",
        "       '052019', '062019', '072019', '082019', \n",
        "       '092019', '012020', '022020', '032020', \n",
        "       '042020', '052020', '062020', '072020',\n",
        "       '082020', '092020', '012021', '022021'] \n",
        "\n",
        "       ,inplace=True)\n"
      ],
      "execution_count": null,
      "outputs": []
    },
    {
      "cell_type": "code",
      "metadata": {
        "id": "i53aR68kdGIC"
      },
      "source": [
        "#CONVERTE OS DADOS DA COLUNA \"GALOES\" DE REAL PARA INTEIRO\n",
        "\n",
        "df1['Galoes'] = df1['Galoes'].astype(int)"
      ],
      "execution_count": null,
      "outputs": []
    },
    {
      "cell_type": "code",
      "metadata": {
        "colab": {
          "base_uri": "https://localhost:8080/"
        },
        "id": "kyygq6dOSMRN",
        "outputId": "91ac91cc-35a1-41ad-a817-ea2e7b9324cf"
      },
      "source": [
        "df2.head()"
      ],
      "execution_count": null,
      "outputs": [
        {
          "output_type": "execute_result",
          "data": {
            "text/html": [
              "<div>\n",
              "<style scoped>\n",
              "    .dataframe tbody tr th:only-of-type {\n",
              "        vertical-align: middle;\n",
              "    }\n",
              "\n",
              "    .dataframe tbody tr th {\n",
              "        vertical-align: top;\n",
              "    }\n",
              "\n",
              "    .dataframe thead th {\n",
              "        text-align: right;\n",
              "    }\n",
              "</style>\n",
              "<table border=\"1\" class=\"dataframe\">\n",
              "  <thead>\n",
              "    <tr style=\"text-align: right;\">\n",
              "      <th></th>\n",
              "      <th>Data</th>\n",
              "      <th>Caixa</th>\n",
              "      <th>GarrafaML</th>\n",
              "      <th>ValorGarrafaAtacada</th>\n",
              "      <th>ValorGarrafaVarejo</th>\n",
              "      <th>GarrafasVendidas</th>\n",
              "      <th>ValorFinalVarejo</th>\n",
              "      <th>VolumeVendidoL</th>\n",
              "      <th>VolumeGalao</th>\n",
              "    </tr>\n",
              "  </thead>\n",
              "  <tbody>\n",
              "    <tr>\n",
              "      <th>0</th>\n",
              "      <td>01/22/2019</td>\n",
              "      <td>6</td>\n",
              "      <td>1750</td>\n",
              "      <td>7.50</td>\n",
              "      <td>11.25</td>\n",
              "      <td>6</td>\n",
              "      <td>67.50</td>\n",
              "      <td>10.50</td>\n",
              "      <td>2.77</td>\n",
              "    </tr>\n",
              "    <tr>\n",
              "      <th>1</th>\n",
              "      <td>01/15/2019</td>\n",
              "      <td>12</td>\n",
              "      <td>1000</td>\n",
              "      <td>9.50</td>\n",
              "      <td>14.25</td>\n",
              "      <td>1</td>\n",
              "      <td>14.25</td>\n",
              "      <td>1.00</td>\n",
              "      <td>0.26</td>\n",
              "    </tr>\n",
              "    <tr>\n",
              "      <th>2</th>\n",
              "      <td>01/15/2019</td>\n",
              "      <td>12</td>\n",
              "      <td>750</td>\n",
              "      <td>11.09</td>\n",
              "      <td>16.64</td>\n",
              "      <td>12</td>\n",
              "      <td>199.68</td>\n",
              "      <td>9.00</td>\n",
              "      <td>2.37</td>\n",
              "    </tr>\n",
              "    <tr>\n",
              "      <th>3</th>\n",
              "      <td>01/15/2019</td>\n",
              "      <td>24</td>\n",
              "      <td>375</td>\n",
              "      <td>8.00</td>\n",
              "      <td>12.00</td>\n",
              "      <td>5</td>\n",
              "      <td>60.00</td>\n",
              "      <td>1.87</td>\n",
              "      <td>0.49</td>\n",
              "    </tr>\n",
              "    <tr>\n",
              "      <th>4</th>\n",
              "      <td>01/16/2019</td>\n",
              "      <td>12</td>\n",
              "      <td>1000</td>\n",
              "      <td>10.99</td>\n",
              "      <td>16.49</td>\n",
              "      <td>12</td>\n",
              "      <td>188.88</td>\n",
              "      <td>12.00</td>\n",
              "      <td>3.17</td>\n",
              "    </tr>\n",
              "  </tbody>\n",
              "</table>\n",
              "</div>"
            ],
            "text/plain": [
              "         Data  Caixa  GarrafaML  ...  ValorFinalVarejo  VolumeVendidoL  VolumeGalao\n",
              "0  01/22/2019      6       1750  ...             67.50           10.50         2.77\n",
              "1  01/15/2019     12       1000  ...             14.25            1.00         0.26\n",
              "2  01/15/2019     12        750  ...            199.68            9.00         2.37\n",
              "3  01/15/2019     24        375  ...             60.00            1.87         0.49\n",
              "4  01/16/2019     12       1000  ...            188.88           12.00         3.17\n",
              "\n",
              "[5 rows x 9 columns]"
            ]
          },
          "metadata": {},
          "execution_count": 12
        }
      ]
    },
    {
      "cell_type": "code",
      "metadata": {
        "id": "Aj-93EpkRck4"
      },
      "source": [
        "#MODIFICAÇÃO DO FORMATO DA DATA PARA DATETIME\n",
        "\n",
        "df2['Data'] = pd.to_datetime(df2['Data'])"
      ],
      "execution_count": null,
      "outputs": []
    },
    {
      "cell_type": "code",
      "metadata": {
        "colab": {
          "base_uri": "https://localhost:8080/"
        },
        "id": "lf8qhGULSVen",
        "outputId": "3ced2d97-3f0e-4057-fd2b-78da82dfaab1"
      },
      "source": [
        "#EXIBIÇÃO DOS TIPOS DE DADOS\n",
        "df2.dtypes"
      ],
      "execution_count": null,
      "outputs": [
        {
          "output_type": "execute_result",
          "data": {
            "text/plain": [
              "Data                   datetime64[ns]\n",
              "Caixa                           int64\n",
              "GarrafaML                       int64\n",
              "ValorGarrafaAtacada           float64\n",
              "ValorGarrafaVarejo            float64\n",
              "GarrafasVendidas                int64\n",
              "ValorFinalVarejo              float64\n",
              "VolumeVendidoL                float64\n",
              "VolumeGalao                   float64\n",
              "dtype: object"
            ]
          },
          "metadata": {},
          "execution_count": 14
        }
      ]
    },
    {
      "cell_type": "code",
      "metadata": {
        "colab": {
          "base_uri": "https://localhost:8080/",
          "height": 313
        },
        "id": "d35lK5qRYGw0",
        "outputId": "f0769434-1bc7-4007-d980-f04437ea888f"
      },
      "source": [
        "df2.head()"
      ],
      "execution_count": null,
      "outputs": [
        {
          "output_type": "execute_result",
          "data": {
            "text/html": [
              "<div>\n",
              "<style scoped>\n",
              "    .dataframe tbody tr th:only-of-type {\n",
              "        vertical-align: middle;\n",
              "    }\n",
              "\n",
              "    .dataframe tbody tr th {\n",
              "        vertical-align: top;\n",
              "    }\n",
              "\n",
              "    .dataframe thead th {\n",
              "        text-align: right;\n",
              "    }\n",
              "</style>\n",
              "<table border=\"1\" class=\"dataframe\">\n",
              "  <thead>\n",
              "    <tr style=\"text-align: right;\">\n",
              "      <th></th>\n",
              "      <th>Data</th>\n",
              "      <th>Caixa</th>\n",
              "      <th>GarrafaML</th>\n",
              "      <th>ValorGarrafaAtacada</th>\n",
              "      <th>ValorGarrafaVarejo</th>\n",
              "      <th>GarrafasVendidas</th>\n",
              "      <th>ValorFinalVarejo</th>\n",
              "      <th>VolumeVendidoL</th>\n",
              "      <th>VolumeGalao</th>\n",
              "    </tr>\n",
              "  </thead>\n",
              "  <tbody>\n",
              "    <tr>\n",
              "      <th>0</th>\n",
              "      <td>2019-01-22</td>\n",
              "      <td>6</td>\n",
              "      <td>1750</td>\n",
              "      <td>7.50</td>\n",
              "      <td>11.25</td>\n",
              "      <td>6</td>\n",
              "      <td>67.50</td>\n",
              "      <td>10.50</td>\n",
              "      <td>2.77</td>\n",
              "    </tr>\n",
              "    <tr>\n",
              "      <th>1</th>\n",
              "      <td>2019-01-15</td>\n",
              "      <td>12</td>\n",
              "      <td>1000</td>\n",
              "      <td>9.50</td>\n",
              "      <td>14.25</td>\n",
              "      <td>1</td>\n",
              "      <td>14.25</td>\n",
              "      <td>1.00</td>\n",
              "      <td>0.26</td>\n",
              "    </tr>\n",
              "    <tr>\n",
              "      <th>2</th>\n",
              "      <td>2019-01-15</td>\n",
              "      <td>12</td>\n",
              "      <td>750</td>\n",
              "      <td>11.09</td>\n",
              "      <td>16.64</td>\n",
              "      <td>12</td>\n",
              "      <td>199.68</td>\n",
              "      <td>9.00</td>\n",
              "      <td>2.37</td>\n",
              "    </tr>\n",
              "    <tr>\n",
              "      <th>3</th>\n",
              "      <td>2019-01-15</td>\n",
              "      <td>24</td>\n",
              "      <td>375</td>\n",
              "      <td>8.00</td>\n",
              "      <td>12.00</td>\n",
              "      <td>5</td>\n",
              "      <td>60.00</td>\n",
              "      <td>1.87</td>\n",
              "      <td>0.49</td>\n",
              "    </tr>\n",
              "    <tr>\n",
              "      <th>4</th>\n",
              "      <td>2019-01-16</td>\n",
              "      <td>12</td>\n",
              "      <td>1000</td>\n",
              "      <td>10.99</td>\n",
              "      <td>16.49</td>\n",
              "      <td>12</td>\n",
              "      <td>188.88</td>\n",
              "      <td>12.00</td>\n",
              "      <td>3.17</td>\n",
              "    </tr>\n",
              "  </tbody>\n",
              "</table>\n",
              "</div>"
            ],
            "text/plain": [
              "        Data  Caixa  GarrafaML  ...  ValorFinalVarejo  VolumeVendidoL  VolumeGalao\n",
              "0 2019-01-22      6       1750  ...             67.50           10.50         2.77\n",
              "1 2019-01-15     12       1000  ...             14.25            1.00         0.26\n",
              "2 2019-01-15     12        750  ...            199.68            9.00         2.37\n",
              "3 2019-01-15     24        375  ...             60.00            1.87         0.49\n",
              "4 2019-01-16     12       1000  ...            188.88           12.00         3.17\n",
              "\n",
              "[5 rows x 9 columns]"
            ]
          },
          "metadata": {},
          "execution_count": 15
        }
      ]
    },
    {
      "cell_type": "markdown",
      "metadata": {
        "id": "ytTn5rqqdpHf"
      },
      "source": [
        "# VALIDAÇÃO DE TIPO DE DADOS PANDERA"
      ]
    },
    {
      "cell_type": "code",
      "metadata": {
        "id": "HT4B5MIFR4s9",
        "colab": {
          "base_uri": "https://localhost:8080/",
          "height": 530
        },
        "outputId": "9970d69a-4a6d-443f-b28c-c7f7756bf371"
      },
      "source": [
        "#VALIDAÇÃO DE ESQUEMA DO DATAFRAME \"ÁMERICA DO NORTE\"\n",
        "\n",
        "schema1 = pa.DataFrameSchema(\n",
        "    columns = { \n",
        "        \"Ano\":pa.Column(pa.Int),\n",
        "        \"Mes\":pa.Column(pa.Int),     \n",
        "        \"MesRef\":pa.Column(pa.String),    \n",
        "        \"Estado\":pa.Column(pa.String),    \n",
        "        \"Categoria\":pa.Column(pa.String),  \n",
        "        \"Galoes\":pa.Column(pa.Int),  \n",
        "        \"Etanol\":pa.Column(pa.Int),  \n",
        "        \"Populacao\":pa.Column(pa.Int),  \n",
        "        \"EtanolPerCapita\":pa.Column(pa.Float),                                       \n",
        "    }\n",
        ")\n",
        "schema1.validate(df1)"
      ],
      "execution_count": null,
      "outputs": [
        {
          "output_type": "execute_result",
          "data": {
            "text/html": [
              "<div>\n",
              "<style scoped>\n",
              "    .dataframe tbody tr th:only-of-type {\n",
              "        vertical-align: middle;\n",
              "    }\n",
              "\n",
              "    .dataframe tbody tr th {\n",
              "        vertical-align: top;\n",
              "    }\n",
              "\n",
              "    .dataframe thead th {\n",
              "        text-align: right;\n",
              "    }\n",
              "</style>\n",
              "<table border=\"1\" class=\"dataframe\">\n",
              "  <thead>\n",
              "    <tr style=\"text-align: right;\">\n",
              "      <th></th>\n",
              "      <th>Ano</th>\n",
              "      <th>Mes</th>\n",
              "      <th>MesRef</th>\n",
              "      <th>Estado</th>\n",
              "      <th>Categoria</th>\n",
              "      <th>Galoes</th>\n",
              "      <th>Etanol</th>\n",
              "      <th>Populacao</th>\n",
              "      <th>EtanolPerCapita</th>\n",
              "    </tr>\n",
              "  </thead>\n",
              "  <tbody>\n",
              "    <tr>\n",
              "      <th>0</th>\n",
              "      <td>2017</td>\n",
              "      <td>1</td>\n",
              "      <td>012017</td>\n",
              "      <td>Alaska</td>\n",
              "      <td>Destilado</td>\n",
              "      <td>103645</td>\n",
              "      <td>42598</td>\n",
              "      <td>593378</td>\n",
              "      <td>0.0718</td>\n",
              "    </tr>\n",
              "    <tr>\n",
              "      <th>1</th>\n",
              "      <td>2017</td>\n",
              "      <td>1</td>\n",
              "      <td>012017</td>\n",
              "      <td>Colorado</td>\n",
              "      <td>Destilado</td>\n",
              "      <td>733857</td>\n",
              "      <td>301615</td>\n",
              "      <td>4634346</td>\n",
              "      <td>0.0651</td>\n",
              "    </tr>\n",
              "    <tr>\n",
              "      <th>2</th>\n",
              "      <td>2017</td>\n",
              "      <td>1</td>\n",
              "      <td>012017</td>\n",
              "      <td>Connecticut</td>\n",
              "      <td>Destilado</td>\n",
              "      <td>412100</td>\n",
              "      <td>169373</td>\n",
              "      <td>3015481</td>\n",
              "      <td>0.0562</td>\n",
              "    </tr>\n",
              "    <tr>\n",
              "      <th>3</th>\n",
              "      <td>2017</td>\n",
              "      <td>1</td>\n",
              "      <td>012017</td>\n",
              "      <td>Delaware</td>\n",
              "      <td>Destilado</td>\n",
              "      <td>180388</td>\n",
              "      <td>74139</td>\n",
              "      <td>799550</td>\n",
              "      <td>0.0927</td>\n",
              "    </tr>\n",
              "    <tr>\n",
              "      <th>4</th>\n",
              "      <td>2017</td>\n",
              "      <td>1</td>\n",
              "      <td>012017</td>\n",
              "      <td>Florida</td>\n",
              "      <td>Destilado</td>\n",
              "      <td>2770686</td>\n",
              "      <td>1138752</td>\n",
              "      <td>17722275</td>\n",
              "      <td>0.0643</td>\n",
              "    </tr>\n",
              "    <tr>\n",
              "      <th>...</th>\n",
              "      <td>...</td>\n",
              "      <td>...</td>\n",
              "      <td>...</td>\n",
              "      <td>...</td>\n",
              "      <td>...</td>\n",
              "      <td>...</td>\n",
              "      <td>...</td>\n",
              "      <td>...</td>\n",
              "      <td>...</td>\n",
              "    </tr>\n",
              "    <tr>\n",
              "      <th>1945</th>\n",
              "      <td>2021</td>\n",
              "      <td>2</td>\n",
              "      <td>022021</td>\n",
              "      <td>Minnesota</td>\n",
              "      <td>Cerveja</td>\n",
              "      <td>8764953</td>\n",
              "      <td>394423</td>\n",
              "      <td>4629348</td>\n",
              "      <td>0.0852</td>\n",
              "    </tr>\n",
              "    <tr>\n",
              "      <th>1946</th>\n",
              "      <td>2021</td>\n",
              "      <td>2</td>\n",
              "      <td>022021</td>\n",
              "      <td>Missouri</td>\n",
              "      <td>Cerveja</td>\n",
              "      <td>8413292</td>\n",
              "      <td>378598</td>\n",
              "      <td>5077875</td>\n",
              "      <td>0.0746</td>\n",
              "    </tr>\n",
              "    <tr>\n",
              "      <th>1947</th>\n",
              "      <td>2021</td>\n",
              "      <td>2</td>\n",
              "      <td>022021</td>\n",
              "      <td>Dakota do Norte</td>\n",
              "      <td>Cerveja</td>\n",
              "      <td>1575937</td>\n",
              "      <td>70917</td>\n",
              "      <td>617880</td>\n",
              "      <td>0.1148</td>\n",
              "    </tr>\n",
              "    <tr>\n",
              "      <th>1948</th>\n",
              "      <td>2021</td>\n",
              "      <td>2</td>\n",
              "      <td>022021</td>\n",
              "      <td>Tennessee</td>\n",
              "      <td>Cerveja</td>\n",
              "      <td>9774658</td>\n",
              "      <td>439860</td>\n",
              "      <td>5661532</td>\n",
              "      <td>0.0777</td>\n",
              "    </tr>\n",
              "    <tr>\n",
              "      <th>1949</th>\n",
              "      <td>2021</td>\n",
              "      <td>2</td>\n",
              "      <td>022021</td>\n",
              "      <td>Texas</td>\n",
              "      <td>Cerveja</td>\n",
              "      <td>40234140</td>\n",
              "      <td>1810536</td>\n",
              "      <td>23257363</td>\n",
              "      <td>0.0778</td>\n",
              "    </tr>\n",
              "  </tbody>\n",
              "</table>\n",
              "<p>1950 rows × 9 columns</p>\n",
              "</div>"
            ],
            "text/plain": [
              "       Ano  Mes  MesRef  ...   Etanol Populacao  EtanolPerCapita\n",
              "0     2017    1  012017  ...    42598    593378           0.0718\n",
              "1     2017    1  012017  ...   301615   4634346           0.0651\n",
              "2     2017    1  012017  ...   169373   3015481           0.0562\n",
              "3     2017    1  012017  ...    74139    799550           0.0927\n",
              "4     2017    1  012017  ...  1138752  17722275           0.0643\n",
              "...    ...  ...     ...  ...      ...       ...              ...\n",
              "1945  2021    2  022021  ...   394423   4629348           0.0852\n",
              "1946  2021    2  022021  ...   378598   5077875           0.0746\n",
              "1947  2021    2  022021  ...    70917    617880           0.1148\n",
              "1948  2021    2  022021  ...   439860   5661532           0.0777\n",
              "1949  2021    2  022021  ...  1810536  23257363           0.0778\n",
              "\n",
              "[1950 rows x 9 columns]"
            ]
          },
          "metadata": {},
          "execution_count": 16
        }
      ]
    },
    {
      "cell_type": "code",
      "metadata": {
        "colab": {
          "base_uri": "https://localhost:8080/"
        },
        "id": "Gb1TexWhXTuW",
        "outputId": "6ae7a812-f5ee-4979-bc3e-f9ea691b7b3a"
      },
      "source": [
        "#VALIDAÇÃO DE ESQUEMA DO DATAFRAME \"IOWA\"\n",
        "\n",
        "schema2 = pa.DataFrameSchema(\n",
        "    columns = {\n",
        "        \"Data\":pa.Column(pa.DateTime),\n",
        "        \"Caixa\":pa.Column(pa.Int),\n",
        "        \"GarrafaML\":pa.Column(pa.Int),\n",
        "        \"ValorGarrafaAtacada\":pa.Column(pa.Float),\n",
        "        \"ValorGarrafaVarejo\":pa.Column(pa.Float),\n",
        "        \"GarrafasVendidas\":pa.Column(pa.Int),\n",
        "        \"ValorFinalVarejo\":pa.Column(pa.Float),\n",
        "        \"VolumeVendidoL\":pa.Column(pa.Float),\n",
        "        \"VolumeGalao\":pa.Column(pa.Float)\n",
        "    }\n",
        ")\n",
        "schema2.validate(df2)\n"
      ],
      "execution_count": null,
      "outputs": [
        {
          "output_type": "execute_result",
          "data": {
            "text/html": [
              "<div>\n",
              "<style scoped>\n",
              "    .dataframe tbody tr th:only-of-type {\n",
              "        vertical-align: middle;\n",
              "    }\n",
              "\n",
              "    .dataframe tbody tr th {\n",
              "        vertical-align: top;\n",
              "    }\n",
              "\n",
              "    .dataframe thead th {\n",
              "        text-align: right;\n",
              "    }\n",
              "</style>\n",
              "<table border=\"1\" class=\"dataframe\">\n",
              "  <thead>\n",
              "    <tr style=\"text-align: right;\">\n",
              "      <th></th>\n",
              "      <th>Data</th>\n",
              "      <th>Caixa</th>\n",
              "      <th>GarrafaML</th>\n",
              "      <th>ValorGarrafaAtacada</th>\n",
              "      <th>ValorGarrafaVarejo</th>\n",
              "      <th>GarrafasVendidas</th>\n",
              "      <th>ValorFinalVarejo</th>\n",
              "      <th>VolumeVendidoL</th>\n",
              "      <th>VolumeGalao</th>\n",
              "    </tr>\n",
              "  </thead>\n",
              "  <tbody>\n",
              "    <tr>\n",
              "      <th>0</th>\n",
              "      <td>2019-01-22</td>\n",
              "      <td>6</td>\n",
              "      <td>1750</td>\n",
              "      <td>7.50</td>\n",
              "      <td>11.25</td>\n",
              "      <td>6</td>\n",
              "      <td>67.50</td>\n",
              "      <td>10.50</td>\n",
              "      <td>2.77</td>\n",
              "    </tr>\n",
              "    <tr>\n",
              "      <th>1</th>\n",
              "      <td>2019-01-15</td>\n",
              "      <td>12</td>\n",
              "      <td>1000</td>\n",
              "      <td>9.50</td>\n",
              "      <td>14.25</td>\n",
              "      <td>1</td>\n",
              "      <td>14.25</td>\n",
              "      <td>1.00</td>\n",
              "      <td>0.26</td>\n",
              "    </tr>\n",
              "    <tr>\n",
              "      <th>2</th>\n",
              "      <td>2019-01-15</td>\n",
              "      <td>12</td>\n",
              "      <td>750</td>\n",
              "      <td>11.09</td>\n",
              "      <td>16.64</td>\n",
              "      <td>12</td>\n",
              "      <td>199.68</td>\n",
              "      <td>9.00</td>\n",
              "      <td>2.37</td>\n",
              "    </tr>\n",
              "    <tr>\n",
              "      <th>3</th>\n",
              "      <td>2019-01-15</td>\n",
              "      <td>24</td>\n",
              "      <td>375</td>\n",
              "      <td>8.00</td>\n",
              "      <td>12.00</td>\n",
              "      <td>5</td>\n",
              "      <td>60.00</td>\n",
              "      <td>1.87</td>\n",
              "      <td>0.49</td>\n",
              "    </tr>\n",
              "    <tr>\n",
              "      <th>4</th>\n",
              "      <td>2019-01-16</td>\n",
              "      <td>12</td>\n",
              "      <td>1000</td>\n",
              "      <td>10.99</td>\n",
              "      <td>16.49</td>\n",
              "      <td>12</td>\n",
              "      <td>188.88</td>\n",
              "      <td>12.00</td>\n",
              "      <td>3.17</td>\n",
              "    </tr>\n",
              "    <tr>\n",
              "      <th>...</th>\n",
              "      <td>...</td>\n",
              "      <td>...</td>\n",
              "      <td>...</td>\n",
              "      <td>...</td>\n",
              "      <td>...</td>\n",
              "      <td>...</td>\n",
              "      <td>...</td>\n",
              "      <td>...</td>\n",
              "      <td>...</td>\n",
              "    </tr>\n",
              "    <tr>\n",
              "      <th>10028012</th>\n",
              "      <td>2019-01-15</td>\n",
              "      <td>12</td>\n",
              "      <td>750</td>\n",
              "      <td>9.06</td>\n",
              "      <td>13.59</td>\n",
              "      <td>12</td>\n",
              "      <td>163.08</td>\n",
              "      <td>9.00</td>\n",
              "      <td>2.37</td>\n",
              "    </tr>\n",
              "    <tr>\n",
              "      <th>10028013</th>\n",
              "      <td>2019-01-17</td>\n",
              "      <td>24</td>\n",
              "      <td>200</td>\n",
              "      <td>1.96</td>\n",
              "      <td>2.94</td>\n",
              "      <td>24</td>\n",
              "      <td>70.56</td>\n",
              "      <td>4.80</td>\n",
              "      <td>1.26</td>\n",
              "    </tr>\n",
              "    <tr>\n",
              "      <th>10028014</th>\n",
              "      <td>2019-01-17</td>\n",
              "      <td>12</td>\n",
              "      <td>500</td>\n",
              "      <td>5.40</td>\n",
              "      <td>8.10</td>\n",
              "      <td>1</td>\n",
              "      <td>8.10</td>\n",
              "      <td>0.50</td>\n",
              "      <td>0.13</td>\n",
              "    </tr>\n",
              "    <tr>\n",
              "      <th>10028015</th>\n",
              "      <td>2019-01-15</td>\n",
              "      <td>12</td>\n",
              "      <td>1000</td>\n",
              "      <td>7.00</td>\n",
              "      <td>10.50</td>\n",
              "      <td>12</td>\n",
              "      <td>126.00</td>\n",
              "      <td>12.00</td>\n",
              "      <td>3.17</td>\n",
              "    </tr>\n",
              "    <tr>\n",
              "      <th>10028016</th>\n",
              "      <td>2019-01-18</td>\n",
              "      <td>12</td>\n",
              "      <td>750</td>\n",
              "      <td>13.00</td>\n",
              "      <td>19.50</td>\n",
              "      <td>12</td>\n",
              "      <td>234.00</td>\n",
              "      <td>9.00</td>\n",
              "      <td>2.37</td>\n",
              "    </tr>\n",
              "  </tbody>\n",
              "</table>\n",
              "<p>10028017 rows × 9 columns</p>\n",
              "</div>"
            ],
            "text/plain": [
              "               Data  Caixa  ...  VolumeVendidoL  VolumeGalao\n",
              "0        2019-01-22      6  ...           10.50         2.77\n",
              "1        2019-01-15     12  ...            1.00         0.26\n",
              "2        2019-01-15     12  ...            9.00         2.37\n",
              "3        2019-01-15     24  ...            1.87         0.49\n",
              "4        2019-01-16     12  ...           12.00         3.17\n",
              "...             ...    ...  ...             ...          ...\n",
              "10028012 2019-01-15     12  ...            9.00         2.37\n",
              "10028013 2019-01-17     24  ...            4.80         1.26\n",
              "10028014 2019-01-17     12  ...            0.50         0.13\n",
              "10028015 2019-01-15     12  ...           12.00         3.17\n",
              "10028016 2019-01-18     12  ...            9.00         2.37\n",
              "\n",
              "[10028017 rows x 9 columns]"
            ]
          },
          "metadata": {},
          "execution_count": 17
        }
      ]
    },
    {
      "cell_type": "code",
      "metadata": {
        "id": "QZcxcKLJpr-h"
      },
      "source": [
        "#EXPORTAÇÃO BASE \"NORTE AMÉRICA\" PARA O BUCKET GCP\n",
        "\n",
        "#df1.to_csv('gs://bucket-projeto-g10/saida_tratado/nivel_pandera/Base_ConsumoNA (2.0).csv', index=False)"
      ],
      "execution_count": null,
      "outputs": []
    },
    {
      "cell_type": "code",
      "metadata": {
        "id": "5LShTOEYY1Co"
      },
      "source": [
        "#EXPORTAÇÃO BASE \"IOWA\" PARA O BUCKET GCP\n",
        "\n",
        "#df2.to_csv('gs://bucket-projeto-g10/saida_tratado/nivel_pandera/Base_ConsumoIowa (2.0).csv', index=False)"
      ],
      "execution_count": null,
      "outputs": []
    },
    {
      "cell_type": "markdown",
      "metadata": {
        "id": "lPTxKBf7IxNI"
      },
      "source": [
        "# FILTRO 2021 BASE IOWA"
      ]
    },
    {
      "cell_type": "code",
      "metadata": {
        "id": "b0bVYDHw4vP5"
      },
      "source": [
        "#PASSO DESCARTADO \n",
        "\n",
        "df3 = df2.loc[df2['Data'] > '2021-01-01']"
      ],
      "execution_count": null,
      "outputs": []
    },
    {
      "cell_type": "code",
      "metadata": {
        "id": "Ff72HGdb8Qdo"
      },
      "source": [
        "#EXPORTAÇÃO BASE \"IOWA 2021\" PARA O BUCKET GCP\n",
        "\n",
        "#df3.to_csv('gs://bucket-projeto-g10/saida_tratado/nivel_pandera/Base_ConsumoIowa2021 (2.0).csv', index=False)\n",
        "\n",
        "#DECIDIMOS UTILIZAR A BASE COMPLETA DIRETAMENTE NO BIGQUERY, SEM PASSAR PELO SPARK"
      ],
      "execution_count": null,
      "outputs": []
    }
  ]
}